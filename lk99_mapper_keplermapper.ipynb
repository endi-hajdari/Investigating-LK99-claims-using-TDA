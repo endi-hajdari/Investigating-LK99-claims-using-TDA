{
 "cells": [
  {
   "cell_type": "markdown",
   "id": "9b5beabf",
   "metadata": {},
   "source": [
    "# Mapper Algorithm for using `KeplerMapper`: LK-99"
   ]
  },
  {
   "cell_type": "markdown",
   "id": "74e381a5",
   "metadata": {},
   "source": [
    "This notebook uses the **KeplerMapper** library to run topological data analysis (TDA) on the normalized atomic structure of LK-99, with core tools from scikit-learn to extract a simplicial summary that captures the shape and connectivity of the material's atomic configuration."
   ]
  },
  {
   "cell_type": "markdown",
   "id": "d89f2501",
   "metadata": {},
   "source": [
    "### **Notes**\n",
    "`giotto-tda` was not used for the following reasons that we could not resolve:\n",
    "- OPenBLAS threading errors on macOS during clustering (AttributeError: 'NoneType' object has no attribute 'split')\n",
    "- make_mapper_pipeline() returned a custom object whose output structure across versions was inconsistent\n",
    "- The resulting graph was either malformed or difficult to extract to plot (KeyError: 'nodes')"
   ]
  },
  {
   "cell_type": "code",
   "execution_count": 17,
   "id": "bc4fc559",
   "metadata": {},
   "outputs": [],
   "source": [
    "# Importing relevant libraries for each block of code\n",
    "import numpy as np\n",
    "import kmapper as km\n",
    "from sklearn.decomposition import PCA\n",
    "from sklearn.cluster import AgglomerativeClustering  # Clustering Within Bins: Instead of using DBSCAN (which repeatedly caused errors with small subsets), \n",
    "                                                     # we use Agglomerative Clustering, a hierarchical method that does not rely on density estimates.\n",
    "import matplotlib.pyplot as plt"
   ]
  },
  {
   "cell_type": "code",
   "execution_count": 35,
   "id": "84f71089",
   "metadata": {},
   "outputs": [
    {
     "name": "stdout",
     "output_type": "stream",
     "text": [
      "Point cloud shape: (41, 3)\n"
     ]
    }
   ],
   "source": [
    "# Loading the LK-99 normalized point cloud dataset\n",
    "X = np.loadtxt(\"normalized_point_cloud.txt\")\n",
    "print(\"Point cloud shape:\", X.shape)\n"
   ]
  },
  {
   "cell_type": "code",
   "execution_count": 36,
   "id": "17538864",
   "metadata": {},
   "outputs": [
    {
     "name": "stdout",
     "output_type": "stream",
     "text": [
      "KeplerMapper(verbose=1)\n",
      "..Composing projection pipeline of length 1:\n",
      "\tProjections: PCA(n_components=1)\n",
      "\tDistance matrices: False\n",
      "\tScalers: MinMaxScaler()\n",
      "..Projecting on data shaped (41, 3)\n",
      "\n",
      "..Projecting data using: \n",
      "\tPCA(n_components=1)\n",
      "\n",
      "\n",
      "..Scaling with: MinMaxScaler()\n",
      "\n"
     ]
    }
   ],
   "source": [
    "# Initializing KeplerMapper\n",
    "mapper = km.KeplerMapper(verbose=1)\n",
    "\n",
    "# Using PCA to project the high-dimensional data into 1D data for lens\n",
    "lens = mapper.fit_transform(X, projection=PCA(n_components=1))\n"
   ]
  },
  {
   "cell_type": "code",
   "execution_count": 37,
   "id": "431dd314",
   "metadata": {},
   "outputs": [
    {
     "name": "stdout",
     "output_type": "stream",
     "text": [
      "Mapping on data shaped (41, 3) using lens shaped (41, 1)\n",
      "\n",
      "Creating 10 hypercubes.\n",
      "\n",
      "Created 20 edges and 20 nodes in 0:00:00.005267.\n",
      "Wrote visualization to: lk99_mapper.html\n",
      "Success: Mapper visualization saved to 'lk99_mapper.html'\n"
     ]
    }
   ],
   "source": [
    "# Creating the Mapper graph using Agglomerative Clustering instead of DBSCAN as it is more stable in small-sample scenarios\n",
    "graph = mapper.map(lens,\n",
    "                   X,\n",
    "                   clusterer=AgglomerativeClustering(n_clusters=2),\n",
    "                   cover=km.Cover(n_cubes=10, perc_overlap=0.5))\n",
    "\n",
    "# Visualizing the graph as an interactive HTML\n",
    "# Note that the output is to be viewed in a browser\n",
    "mapper.visualize(graph,\n",
    "                 path_html=\"lk99_mapper.html\",\n",
    "                 title=\"Mapper Graph of LK-99\")\n",
    "\n",
    "print(\"Success: Mapper visualization saved to 'lk99_mapper.html'\")\n"
   ]
  },
  {
   "cell_type": "markdown",
   "id": "a26e57f3",
   "metadata": {},
   "source": [
    "## Mapper Algorithm Using `KeplerMapper`:  Comparison of LK-99 With Other Known Superconductors"
   ]
  },
  {
   "cell_type": "markdown",
   "id": "8f4057e9",
   "metadata": {},
   "source": [
    "In the following sections of code, we extract a simplicial summary for three other superconductors that captures the shape and connectivity of the material's atomic configuration."
   ]
  },
  {
   "cell_type": "markdown",
   "id": "1b57b27b",
   "metadata": {},
   "source": [
    "### Mapper Algorithm Using `KeplerMapper`: Perovskite-Based Layered Cuprate"
   ]
  },
  {
   "cell_type": "code",
   "execution_count": 32,
   "id": "2f115bca",
   "metadata": {},
   "outputs": [
    {
     "name": "stdout",
     "output_type": "stream",
     "text": [
      "Point cloud shape: (12, 3)\n",
      "KeplerMapper(verbose=1)\n",
      "..Composing projection pipeline of length 1:\n",
      "\tProjections: PCA(n_components=1)\n",
      "\tDistance matrices: False\n",
      "\tScalers: MinMaxScaler()\n",
      "..Projecting on data shaped (12, 3)\n",
      "\n",
      "..Projecting data using: \n",
      "\tPCA(n_components=1)\n",
      "\n",
      "\n",
      "..Scaling with: MinMaxScaler()\n",
      "\n",
      "Mapping on data shaped (12, 3) using lens shaped (12, 1)\n",
      "\n",
      "Creating 10 hypercubes.\n",
      "\n",
      "Created 7 edges and 14 nodes in 0:00:00.003930.\n",
      "Wrote visualization to: Perovskite-Based Layered Cuprate.html\n",
      "Success: Mapper visualization saved to 'Perovskite-Based Layered Cuprate.html'\n"
     ]
    }
   ],
   "source": [
    "# Loading the Perovskite-Based Layered Cuprate normalized point cloud dataset\n",
    "X = np.loadtxt(\"1001421_point_cloud.txt\")\n",
    "print(\"Point cloud shape:\", X.shape)\n",
    "\n",
    "# Initializing KeplerMapper\n",
    "mapper = km.KeplerMapper(verbose=1)\n",
    "\n",
    "# Using PCA to project the high-dimensional data into 1D data for lens\n",
    "lens = mapper.fit_transform(X, projection=PCA(n_components=1))\n",
    "\n",
    "# Creating the Mapper graph using Agglomerative Clustering instead of DBSCAN as it is more stable in small-sample scenarios\n",
    "graph = mapper.map(lens,\n",
    "                   X,\n",
    "                   clusterer=AgglomerativeClustering(n_clusters=2),\n",
    "                   cover=km.Cover(n_cubes=10, perc_overlap=0.5))\n",
    "\n",
    "# Visualizing the graph as an interactive HTML\n",
    "# Note that the output is to be viewed in a browser\n",
    "mapper.visualize(graph,\n",
    "                 path_html=\"Perovskite-Based Layered Cuprate.html\",\n",
    "                 title=\"Mapper Graph of Perovskite-Based Layered Cuprate\")\n",
    "\n",
    "print(\"Success: Mapper visualization saved to 'Perovskite-Based Layered Cuprate.html'\")"
   ]
  },
  {
   "cell_type": "markdown",
   "id": "f7fc554c",
   "metadata": {},
   "source": [
    "### Mapper Algorithm Using `KeplerMapper`: Thallium-Based High-Critical-Temperature Superconductor"
   ]
  },
  {
   "cell_type": "code",
   "execution_count": 33,
   "id": "b3485817",
   "metadata": {},
   "outputs": [
    {
     "name": "stdout",
     "output_type": "stream",
     "text": [
      "Point cloud shape: (15, 3)\n",
      "KeplerMapper(verbose=1)\n",
      "..Composing projection pipeline of length 1:\n",
      "\tProjections: PCA(n_components=1)\n",
      "\tDistance matrices: False\n",
      "\tScalers: MinMaxScaler()\n",
      "..Projecting on data shaped (15, 3)\n",
      "\n",
      "..Projecting data using: \n",
      "\tPCA(n_components=1)\n",
      "\n",
      "\n",
      "..Scaling with: MinMaxScaler()\n",
      "\n",
      "Mapping on data shaped (15, 3) using lens shaped (15, 1)\n",
      "\n",
      "Creating 10 hypercubes.\n",
      "\n",
      "Created 10 edges and 20 nodes in 0:00:00.003580.\n",
      "Wrote visualization to: Thallium-Based High-Critical-Temperature Superconductor.html\n",
      "Success: Mapper visualization saved to 'Thallium-Based High-Critical-Temperature Superconductor.html'\n"
     ]
    }
   ],
   "source": [
    "# Loading the Thallium-Based High-Critical-Temperature Superconductor normalized point cloud dataset\n",
    "X = np.loadtxt(\"1001420_point_cloud.txt\")\n",
    "print(\"Point cloud shape:\", X.shape)\n",
    "\n",
    "# Initializing KeplerMapper\n",
    "mapper = km.KeplerMapper(verbose=1)\n",
    "\n",
    "# Using PCA to project the high-dimensional data into 1D data for lens\n",
    "lens = mapper.fit_transform(X, projection=PCA(n_components=1))\n",
    "\n",
    "# Creating the Mapper graph using Agglomerative Clustering instead of DBSCAN as it is more stable in small-sample scenarios\n",
    "graph = mapper.map(lens,\n",
    "                   X,\n",
    "                   clusterer=AgglomerativeClustering(n_clusters=2),\n",
    "                   cover=km.Cover(n_cubes=10, perc_overlap=0.5))\n",
    "\n",
    "# Visualizing the graph as an interactive HTML\n",
    "# Note that the output is to be viewed in a browser\n",
    "mapper.visualize(graph,\n",
    "                 path_html=\"Thallium-Based High-Critical-Temperature Superconductor.html\",\n",
    "                 title=\"Mapper Graph of Thallium-Based High-Critical-Temperature Superconductor\")\n",
    "\n",
    "print(\"Success: Mapper visualization saved to 'Thallium-Based High-Critical-Temperature Superconductor.html'\")"
   ]
  },
  {
   "cell_type": "markdown",
   "id": "93198101",
   "metadata": {},
   "source": [
    "### Mapper Algorithm Using `KeplerMapper`: Bismuth-Based Layered Cuprate Superconductor"
   ]
  },
  {
   "cell_type": "code",
   "execution_count": 34,
   "id": "408aa1b2",
   "metadata": {},
   "outputs": [
    {
     "name": "stdout",
     "output_type": "stream",
     "text": [
      "Point cloud shape: (15, 3)\n",
      "KeplerMapper(verbose=1)\n",
      "..Composing projection pipeline of length 1:\n",
      "\tProjections: PCA(n_components=1)\n",
      "\tDistance matrices: False\n",
      "\tScalers: MinMaxScaler()\n",
      "..Projecting on data shaped (15, 3)\n",
      "\n",
      "..Projecting data using: \n",
      "\tPCA(n_components=1)\n",
      "\n",
      "\n",
      "..Scaling with: MinMaxScaler()\n",
      "\n",
      "Mapping on data shaped (15, 3) using lens shaped (15, 1)\n",
      "\n",
      "Creating 10 hypercubes.\n",
      "\n",
      "Created 10 edges and 18 nodes in 0:00:00.003541.\n",
      "Wrote visualization to: Bismuth-Based Layered Cuprate Superconductor.html\n",
      "Success: Mapper visualization saved to 'Bismuth-Based Layered Cuprate Superconductor.html'\n"
     ]
    }
   ],
   "source": [
    "# Loading the Bismuth-Based Layered Cuprate Superconductor point cloud\n",
    "X = np.loadtxt(\"1001409_point_cloud.txt\")\n",
    "print(\"Point cloud shape:\", X.shape)\n",
    "\n",
    "# Initializing KeplerMapper\n",
    "mapper = km.KeplerMapper(verbose=1)\n",
    "\n",
    "# Using PCA to project the high-dimensional data into 1D data for lens\n",
    "lens = mapper.fit_transform(X, projection=PCA(n_components=1))\n",
    "\n",
    "# Creating the Mapper graph using Agglomerative Clustering instead of DBSCAN as it is more stable in small-sample scenarios\n",
    "graph = mapper.map(lens,\n",
    "                   X,\n",
    "                   clusterer=AgglomerativeClustering(n_clusters=2),\n",
    "                   cover=km.Cover(n_cubes=10, perc_overlap=0.5))\n",
    "\n",
    "# Visualizing the graph as an interactive HTML\n",
    "# Note that the output is to be viewed in a browser\n",
    "mapper.visualize(graph,\n",
    "                 path_html=\"Bismuth-Based Layered Cuprate Superconductor.html\",\n",
    "                 title=\"Mapper Graph of Bismuth-Based Layered Cuprate Superconductor\")\n",
    "\n",
    "print(\"Success: Mapper visualization saved to 'Bismuth-Based Layered Cuprate Superconductor.html'\")"
   ]
  }
 ],
 "metadata": {
  "kernelspec": {
   "display_name": "Python 3.9.12 ('base')",
   "language": "python",
   "name": "python3"
  },
  "language_info": {
   "codemirror_mode": {
    "name": "ipython",
    "version": 3
   },
   "file_extension": ".py",
   "mimetype": "text/x-python",
   "name": "python",
   "nbconvert_exporter": "python",
   "pygments_lexer": "ipython3",
   "version": "3.9.12"
  },
  "vscode": {
   "interpreter": {
    "hash": "d444c0ba247e76692c9ba447a3d44fe67a15d6397bfa90c15d727f97df8698b2"
   }
  }
 },
 "nbformat": 4,
 "nbformat_minor": 5
}
